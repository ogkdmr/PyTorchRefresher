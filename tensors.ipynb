{
 "cells": [
  {
   "cell_type": "markdown",
   "id": "71943f79",
   "metadata": {},
   "source": [
    "# Pytorch Refresher Part 1: The Basics #"
   ]
  },
  {
   "cell_type": "markdown",
   "id": "50a26e16",
   "metadata": {},
   "source": [
    "Ozan Gokdemir - Feb 7 - 2022"
   ]
  },
  {
   "cell_type": "code",
   "execution_count": 2,
   "id": "c4f9c3a2",
   "metadata": {},
   "outputs": [],
   "source": [
    "import torch\n",
    "import numpy as np"
   ]
  },
  {
   "cell_type": "markdown",
   "id": "e6d127bf",
   "metadata": {},
   "source": [
    "### Check if PyTorch recognizes the GPU ###"
   ]
  },
  {
   "cell_type": "code",
   "execution_count": 3,
   "id": "721a74b7",
   "metadata": {},
   "outputs": [
    {
     "data": {
      "text/plain": [
       "True"
      ]
     },
     "execution_count": 3,
     "metadata": {},
     "output_type": "execute_result"
    }
   ],
   "source": [
    "torch.cuda.is_available()"
   ]
  },
  {
   "cell_type": "markdown",
   "id": "8432295f",
   "metadata": {},
   "source": [
    "### Tensor dtype is auto-inferred when created from raw data. ###"
   ]
  },
  {
   "cell_type": "code",
   "execution_count": 4,
   "id": "ee0c5e7c",
   "metadata": {},
   "outputs": [
    {
     "name": "stdout",
     "output_type": "stream",
     "text": [
      "torch.float32\n"
     ]
    }
   ],
   "source": [
    "data = [[1.0, 2.0], [3.0,4.0]]\n",
    "tensor = torch.tensor(data)\n",
    "print(tensor.dtype) # will print torch.float32"
   ]
  },
  {
   "cell_type": "markdown",
   "id": "7b192e1c",
   "metadata": {},
   "source": [
    "### Several ways to create tensors. ###\n"
   ]
  },
  {
   "cell_type": "code",
   "execution_count": 5,
   "id": "7394e631",
   "metadata": {},
   "outputs": [],
   "source": [
    "ones = torch.ones_like(tensor) #takes the properties of tensor including shape and dtype.\n",
    "zeros = torch.zeros(tensor.shape) #can explicitly pass the shape, too.\n",
    "rands = torch.rand_like(tensor, dtype=torch.float) #can override the datatype."
   ]
  },
  {
   "cell_type": "markdown",
   "id": "683b9a2a",
   "metadata": {},
   "source": [
    "### Numpy and torch tensors play well together: ###\n"
   ]
  },
  {
   "cell_type": "code",
   "execution_count": 6,
   "id": "7b148627",
   "metadata": {},
   "outputs": [
    {
     "name": "stdout",
     "output_type": "stream",
     "text": [
      "int64\n",
      "torch.int64\n"
     ]
    }
   ],
   "source": [
    "nums = [1,2,3,4,5]\n",
    "arr = np.array(nums)\n",
    "print(arr.dtype)\n",
    "torch_tensor = torch.from_numpy(arr) #instantiate torch tensor from numpy array.\n",
    "print(torch_tensor.dtype)"
   ]
  },
  {
   "cell_type": "markdown",
   "id": "7e01784f",
   "metadata": {},
   "source": [
    "### or can go back to numpy array from torch tensor like this: ###\n"
   ]
  },
  {
   "cell_type": "code",
   "execution_count": 7,
   "id": "7a7e7d48",
   "metadata": {},
   "outputs": [
    {
     "name": "stdout",
     "output_type": "stream",
     "text": [
      "int64\n"
     ]
    }
   ],
   "source": [
    "np_arr = np.array(torch_tensor)\n",
    "print(np_arr.dtype)"
   ]
  },
  {
   "cell_type": "markdown",
   "id": "04f8126d",
   "metadata": {},
   "source": [
    "### tensors are created on CPU by default. Push them to the GPU as follows. ###\n"
   ]
  },
  {
   "cell_type": "code",
   "execution_count": 8,
   "id": "158435b7",
   "metadata": {},
   "outputs": [
    {
     "name": "stdout",
     "output_type": "stream",
     "text": [
      "cpu\n",
      "cuda:0\n"
     ]
    }
   ],
   "source": [
    "my_tensor = torch.rand((16 , 16))\n",
    "print(my_tensor.device) # will print CPU\n",
    "my_tensor = my_tensor.to('cuda') # remember that .to(dtype, device) is not in-place, returns a new object.\n",
    "print(my_tensor.device) # will print CUDA:0 if you have a GPU and torch recognizes it."
   ]
  },
  {
   "cell_type": "markdown",
   "id": "61b8636a",
   "metadata": {},
   "source": [
    "### or you can create the tensor on the gpu from the get-go. ###\n"
   ]
  },
  {
   "cell_type": "code",
   "execution_count": 9,
   "id": "e8f13a8e",
   "metadata": {},
   "outputs": [
    {
     "name": "stdout",
     "output_type": "stream",
     "text": [
      "cuda:0\n"
     ]
    }
   ],
   "source": [
    "gpu_tensor = torch.zeros((32, 32), dtype=torch.float, device='cuda:0')\n",
    "print(gpu_tensor.device)"
   ]
  },
  {
   "cell_type": "markdown",
   "id": "e109868d",
   "metadata": {},
   "source": [
    "## Tensor Operations ## "
   ]
  },
  {
   "cell_type": "markdown",
   "id": "9b9d0ab1",
   "metadata": {},
   "source": [
    "### Concat two tensors ###"
   ]
  },
  {
   "cell_type": "code",
   "execution_count": 12,
   "id": "e6c39287",
   "metadata": {},
   "outputs": [
    {
     "name": "stdout",
     "output_type": "stream",
     "text": [
      "torch.Size([60, 8])\n"
     ]
    }
   ],
   "source": [
    "\n",
    "x = torch.ones((16, 8), dtype=torch.float, device = 'cuda:0')\n",
    "y = torch.zeros((44, 8), dtype=torch.int, device= 'cuda:0')\n",
    "z = torch.cat([x,y], dim=0)\n",
    "print(z.shape)"
   ]
  },
  {
   "cell_type": "markdown",
   "id": "ca308d3a",
   "metadata": {},
   "source": [
    "### Arithmetic Ops ### "
   ]
  },
  {
   "cell_type": "code",
   "execution_count": 26,
   "id": "d80aef6a",
   "metadata": {},
   "outputs": [],
   "source": [
    "#Matmul\n",
    "a = torch.rand(size=(3,5), dtype=torch.float)\n",
    "b = torch.rand(size = (5, 8), dtype=torch.float)\n",
    "c = a @ b #way 1 \n",
    "d = torch.matmul(a,b) #way 2\n",
    "\n",
    "assert c.shape == (3,8), 'Matmul did not work!'\n",
    "assert torch.equal(c,d)\n",
    "\n",
    "#Elementwise product\n",
    "\n",
    "t1 = torch.rand((3,5))\n",
    "t2 = torch.rand((3,5))\n",
    "\n",
    "t3 = t1.mul(t2) #way 1\n",
    "t4 = t1 * t2 #way 2\n",
    "\n",
    "assert torch.equal(t3, t4)\n",
    "\n",
    "#Aggregations. \n",
    "\n",
    "x = torch.rand((5,5), dtype=torch.float)\n",
    "sum_x = x.sum()\n",
    "mean_x = x.mean()\n",
    "std_x = x.std()\n",
    " \n",
    "x = (x - mean_x) / std_x # normalize the values in x."
   ]
  },
  {
   "cell_type": "markdown",
   "id": "aef09564",
   "metadata": {},
   "source": [
    "**If there is a single item in a tensor, use .item() to convert that into an primitive type.**"
   ]
  },
  {
   "cell_type": "code",
   "execution_count": 27,
   "id": "52759ff8",
   "metadata": {},
   "outputs": [
    {
     "data": {
      "text/plain": [
       "float"
      ]
     },
     "execution_count": 27,
     "metadata": {},
     "output_type": "execute_result"
    }
   ],
   "source": [
    "sum_x_prim = sum_x.item()\n",
    "type(sum_x_prim)"
   ]
  }
 ],
 "metadata": {
  "kernelspec": {
   "display_name": "Python [conda env:torch_env] *",
   "language": "python",
   "name": "conda-env-torch_env-py"
  },
  "language_info": {
   "codemirror_mode": {
    "name": "ipython",
    "version": 3
   },
   "file_extension": ".py",
   "mimetype": "text/x-python",
   "name": "python",
   "nbconvert_exporter": "python",
   "pygments_lexer": "ipython3",
   "version": "3.9.7"
  }
 },
 "nbformat": 4,
 "nbformat_minor": 5
}
