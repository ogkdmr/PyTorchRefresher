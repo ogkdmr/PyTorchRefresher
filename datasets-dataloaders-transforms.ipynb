{
 "cells": [
  {
   "cell_type": "markdown",
   "id": "4d5fcde6",
   "metadata": {},
   "source": [
    "## Datasets and Dataloaders\n",
    "\n",
    "* torch.utils.data.Dataset : holds the samples and the targets. Implements dataset-specific funcs.\n",
    "\n",
    "* torch.utils.data.Dataloader : an iterable wrapper around the Dataset object. Specifies the number of threads and the on-the-go transforms to be applied to data and the labels."
   ]
  },
  {
   "cell_type": "code",
   "execution_count": 1,
   "id": "f5286a79",
   "metadata": {},
   "outputs": [],
   "source": [
    "import torch\n",
    "from torch.utils.data import Dataset\n",
    "from torchvision import datasets\n",
    "from torchvision.transforms import ToTensor \n",
    "import matplotlib.pyplot as plt"
   ]
  },
  {
   "cell_type": "markdown",
   "id": "b85cb4fd",
   "metadata": {},
   "source": [
    "**Note that the data downloads as PIL Image for the FashionMNIST dataset, but to train on PyTorch, it needs to be stored in a torch.Tensor object. ToTensor() is the transformation that does that.**"
   ]
  },
  {
   "cell_type": "code",
   "execution_count": 2,
   "id": "8f973d63",
   "metadata": {},
   "outputs": [
    {
     "name": "stdout",
     "output_type": "stream",
     "text": [
      "Downloading http://fashion-mnist.s3-website.eu-central-1.amazonaws.com/train-images-idx3-ubyte.gz\n",
      "Downloading http://fashion-mnist.s3-website.eu-central-1.amazonaws.com/train-images-idx3-ubyte.gz to data/FashionMNIST/raw/train-images-idx3-ubyte.gz\n"
     ]
    },
    {
     "name": "stderr",
     "output_type": "stream",
     "text": [
      "58.0%IOPub message rate exceeded.\n",
      "The notebook server will temporarily stop sending output\n",
      "to the client in order to avoid crashing it.\n",
      "To change this limit, set the config variable\n",
      "`--NotebookApp.iopub_msg_rate_limit`.\n",
      "\n",
      "Current values:\n",
      "NotebookApp.iopub_msg_rate_limit=1000.0 (msgs/sec)\n",
      "NotebookApp.rate_limit_window=3.0 (secs)\n",
      "\n",
      "100.0%\n"
     ]
    },
    {
     "name": "stdout",
     "output_type": "stream",
     "text": [
      "Extracting data/FashionMNIST/raw/train-images-idx3-ubyte.gz to data/FashionMNIST/raw\n",
      "\n",
      "Downloading http://fashion-mnist.s3-website.eu-central-1.amazonaws.com/train-labels-idx1-ubyte.gz\n",
      "Downloading http://fashion-mnist.s3-website.eu-central-1.amazonaws.com/train-labels-idx1-ubyte.gz to data/FashionMNIST/raw/train-labels-idx1-ubyte.gz\n"
     ]
    },
    {
     "name": "stderr",
     "output_type": "stream",
     "text": [
      "100.6%\n"
     ]
    },
    {
     "name": "stdout",
     "output_type": "stream",
     "text": [
      "Extracting data/FashionMNIST/raw/train-labels-idx1-ubyte.gz to data/FashionMNIST/raw\n",
      "\n",
      "Downloading http://fashion-mnist.s3-website.eu-central-1.amazonaws.com/t10k-images-idx3-ubyte.gz\n",
      "Downloading http://fashion-mnist.s3-website.eu-central-1.amazonaws.com/t10k-images-idx3-ubyte.gz to data/FashionMNIST/raw/t10k-images-idx3-ubyte.gz\n"
     ]
    },
    {
     "name": "stderr",
     "output_type": "stream",
     "text": [
      "100.0%\n"
     ]
    },
    {
     "name": "stdout",
     "output_type": "stream",
     "text": [
      "Extracting data/FashionMNIST/raw/t10k-images-idx3-ubyte.gz to data/FashionMNIST/raw\n",
      "\n",
      "Downloading http://fashion-mnist.s3-website.eu-central-1.amazonaws.com/t10k-labels-idx1-ubyte.gz\n",
      "Downloading http://fashion-mnist.s3-website.eu-central-1.amazonaws.com/t10k-labels-idx1-ubyte.gz to data/FashionMNIST/raw/t10k-labels-idx1-ubyte.gz\n"
     ]
    },
    {
     "name": "stderr",
     "output_type": "stream",
     "text": [
      "119.3%"
     ]
    },
    {
     "name": "stdout",
     "output_type": "stream",
     "text": [
      "Extracting data/FashionMNIST/raw/t10k-labels-idx1-ubyte.gz to data/FashionMNIST/raw\n",
      "\n"
     ]
    },
    {
     "name": "stderr",
     "output_type": "stream",
     "text": [
      "\n"
     ]
    }
   ],
   "source": [
    "training_data = datasets.FashionMNIST(\n",
    "    root = 'data',\n",
    "    train = True,\n",
    "    download = True,\n",
    "    transform = ToTensor()\n",
    ")\n",
    "\n",
    "test_data = datasets.FashionMNIST(\n",
    "    root = 'data',\n",
    "    train = False,\n",
    "    download = True, \n",
    "    transform = ToTensor()\n",
    ")\n"
   ]
  },
  {
   "cell_type": "code",
   "execution_count": 6,
   "id": "9c8de65f",
   "metadata": {},
   "outputs": [
    {
     "name": "stdout",
     "output_type": "stream",
     "text": [
      "torch.Size([1, 28, 28]) torch.Size([28, 28])\n",
      "torch.Size([1, 28, 28]) torch.Size([28, 28])\n",
      "torch.Size([1, 28, 28]) torch.Size([28, 28])\n",
      "torch.Size([1, 28, 28]) torch.Size([28, 28])\n",
      "torch.Size([1, 28, 28]) torch.Size([28, 28])\n",
      "torch.Size([1, 28, 28]) torch.Size([28, 28])\n",
      "torch.Size([1, 28, 28]) torch.Size([28, 28])\n",
      "torch.Size([1, 28, 28]) torch.Size([28, 28])\n",
      "torch.Size([1, 28, 28]) torch.Size([28, 28])\n"
     ]
    },
    {
     "data": {
      "image/png": "[encoded data removed]",
      "text/plain": [
       "<Figure size 576x576 with 9 Axes>"
      ]
     },
     "metadata": {
      "needs_background": "light"
     },
     "output_type": "display_data"
    }
   ],
   "source": [
    "labels_map = {\n",
    "    0: 'T-Shirt',\n",
    "    1: 'Trouser',\n",
    "    2: 'Pullover', \n",
    "    3: 'Dress',\n",
    "    4: 'Coat',\n",
    "    5: 'Sandal',\n",
    "    6: 'Shirt', \n",
    "    7: 'Sneaker', \n",
    "    8: 'Bag',\n",
    "    9: 'Ankle Boot'\n",
    "}\n",
    "\n",
    "figure = plt.figure(figsize=(8,8))\n",
    "cols, rows = 3, 3 \n",
    "for i in range(1, cols * rows + 1):\n",
    "    sample_idx = torch.randint(len(training_data), size=(1,)).item()\n",
    "    img, label = training_data[sample_idx]\n",
    "    \n",
    "    figure.add_subplot(rows, cols, i)\n",
    "    plt.title(labels_map[label])\n",
    "    plt.axis('off')\n",
    "    plt.imshow(img.squeeze(), cmap='gray')\n",
    "\n",
    "plt.show()"
   ]
  },
  {
   "cell_type": "markdown",
   "id": "806b5559",
   "metadata": {},
   "source": [
    "### Custom Dataset Object for your own data ###"
   ]
  },
  {
   "cell_type": "code",
   "execution_count": 16,
   "id": "7c30bd17",
   "metadata": {},
   "outputs": [],
   "source": [
    "#Interface requires you implement at least init, getitem and len functions.\n",
    "\n",
    "import os \n",
    "import pandas as pd \n",
    "from torchvision.io import read_image \n",
    "\n",
    "class CustomFashionMNIST(Dataset):\n",
    "    \n",
    "    #constructor. \n",
    "    def __init__(self, labels_path, imgs_path, transform=None, target_transform=None):\n",
    "        self.img_labels = pd.read_csv(labels_path) # assuming the annotations are in csv file.\n",
    "        self.img_dir = imgs_path\n",
    "        self.transform = transform\n",
    "        self.target_transform = target_transform  \n",
    "        \n",
    "    def __len__(self):\n",
    "        return len(self.img_labels)\n",
    "    \n",
    "    #This is the most important method. This method loads the sample from storage into memory.\n",
    "    #It should apply the transforms onto the label and the sample.\n",
    "    def __getitem__(self, idx):\n",
    "        img_path = os.path.join(self.img_dir, self.img_labels.iloc[idx, 0])\n",
    "        image = read_image(img_path) # utility function to read .jpg into pytorch tensor.\n",
    "        label = self.img_labels.iloc[idx, 1]\n",
    "        if self.transform:\n",
    "            image = self.transform(image) # very handy, Transform object has __call__ method.\n",
    "        if self.target_transform:\n",
    "            label = self.target_transform(label)\n",
    "        \n",
    "        return image, label"
   ]
  },
  {
   "cell_type": "markdown",
   "id": "932362a0",
   "metadata": {},
   "source": [
    "### The DataLoader Wrapper ### \n",
    "\n",
    "**Function: Wrapper around the Dataset object to manage minibatch loading (takes batch size as argument), multiprocessing for data retrieval (num_workers), shuffling of the dataset at each epoch etc.**\n",
    "\n",
    "* Note: It is still the job of the __getitem__ of the Dataset object to apply the transforms. It is not the Dataloader."
   ]
  },
  {
   "cell_type": "code",
   "execution_count": 49,
   "id": "4c9ac669",
   "metadata": {},
   "outputs": [],
   "source": [
    "from torch.utils.data import DataLoader\n",
    "\n",
    "'''\n",
    "Syntax: Dataloader(dataset_obj, \n",
    "                   batch_size, \n",
    "                   shuffle, \n",
    "                   pin_memory,\n",
    "                   drop_last, \n",
    "                   timeout,\n",
    "                   num_workers\n",
    "                )\n",
    "'''\n",
    "\n",
    "train_dataloader = DataLoader(training_data, \n",
    "                              batch_size = 64, \n",
    "                              shuffle=True, #order of samples will change each epoch.\n",
    "                              drop_last = True, #TF: drop_remainder\n",
    "                              num_workers = 6)\n",
    "\n",
    "test_dataloader = DataLoader(test_data, \n",
    "                             batch_size=64, \n",
    "                             drop_last = True,\n",
    "                             num_workers= 6) \n"
   ]
  },
  {
   "cell_type": "markdown",
   "id": "b433517e",
   "metadata": {},
   "source": [
    "### Iterating over the DataLoader. ###"
   ]
  },
  {
   "cell_type": "code",
   "execution_count": 50,
   "id": "3608b59d",
   "metadata": {},
   "outputs": [
    {
     "data": {
      "text/plain": [
       "Text(0.5, 1.0, 'tensor(0)')"
      ]
     },
     "execution_count": 50,
     "metadata": {},
     "output_type": "execute_result"
    },
    {
     "data": {
      "image/png": "[encoded data removed]",
      "text/plain": [
       "<Figure size 432x288 with 1 Axes>"
      ]
     },
     "metadata": {
      "needs_background": "light"
     },
     "output_type": "display_data"
    }
   ],
   "source": [
    "img_batch, label_batch = next(iter(train_dataloader))\n",
    "#display an image from the batch with its label. \n",
    "img = img_batch[0].squeeze() \n",
    "label = label_batch[0]\n",
    "plt.imshow(img, cmap='gray')\n",
    "plt.title(label)\n"
   ]
  },
  {
   "cell_type": "markdown",
   "id": "24023661",
   "metadata": {},
   "source": [
    "## Transforms  ### "
   ]
  },
  {
   "cell_type": "code",
   "execution_count": 51,
   "id": "f459dff6",
   "metadata": {},
   "outputs": [],
   "source": [
    "from torchvision.transforms import Lambda \n",
    "\n",
    "ds = datasets.FashionMNIST(\n",
    "    root = 'data',\n",
    "    train=True,\n",
    "    download = True,\n",
    "    transform = ToTensor(), #applied to the features. PIL Image -> Torch tensor.\n",
    "    target_transform = Lambda(lambda y: torch.zeros(10, dtype=torch.float).scatter_(dim=0,\n",
    "                                                                                   torch.tensor(y), \n",
    "                                                                                    value = 1))\n",
    ")"
   ]
  },
  {
   "cell_type": "code",
   "execution_count": null,
   "id": "39e20acd",
   "metadata": {},
   "outputs": [],
   "source": []
  }
 ],
 "metadata": {
  "kernelspec": {
   "display_name": "Python [conda env:torch_env] *",
   "language": "python",
   "name": "conda-env-torch_env-py"
  },
  "language_info": {
   "codemirror_mode": {
    "name": "ipython",
    "version": 3
   },
   "file_extension": ".py",
   "mimetype": "text/x-python",
   "name": "python",
   "nbconvert_exporter": "python",
   "pygments_lexer": "ipython3",
   "version": "3.9.7"
  }
 },
 "nbformat": 4,
 "nbformat_minor": 5
}
