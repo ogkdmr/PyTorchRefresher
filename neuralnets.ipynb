{
 "cells": [
  {
   "cell_type": "markdown",
   "id": "5bc4f3b6",
   "metadata": {},
   "source": [
    "## Neural Networks in PyTorch \n",
    "\n",
    "* torch.nn provides the building blocks for neural networks.\n",
    "* all networks subclass the nn.Module, so do the layers. The model is thus a module of modules.\n"
   ]
  },
  {
   "cell_type": "code",
   "execution_count": 13,
   "id": "0398c62c",
   "metadata": {},
   "outputs": [],
   "source": [
    "import os \n",
    "import torch \n",
    "from torch import nn \n",
    "from torch.utils.data import DataLoader \n",
    "from torchvision import datasets, transforms"
   ]
  },
  {
   "cell_type": "code",
   "execution_count": 14,
   "id": "09409b9f",
   "metadata": {
    "scrolled": true
   },
   "outputs": [
    {
     "name": "stdout",
     "output_type": "stream",
     "text": [
      "cuda\n"
     ]
    }
   ],
   "source": [
    "#Train on GPU if one is recognized.\n",
    "device = 'cuda' if torch.cuda.is_available() else 'cpu'\n",
    "print(device)"
   ]
  },
  {
   "cell_type": "markdown",
   "id": "7dfd23e7",
   "metadata": {},
   "source": [
    "### Building the Neural Network Using torch.nn"
   ]
  },
  {
   "cell_type": "code",
   "execution_count": 61,
   "id": "7716127b",
   "metadata": {},
   "outputs": [],
   "source": [
    "class MyModel(nn.Module):\n",
    "    def __init__(self):\n",
    "        super(MyModel, self).__init__()\n",
    "        self.flatten = nn.Flatten()\n",
    "        self.linear_relu_stack = nn.Sequential(\n",
    "            nn.Linear(28 * 28 , 512), \n",
    "            nn.ReLU(), \n",
    "            nn.Linear(512, 512), \n",
    "            nn.ReLU(),\n",
    "            nn.Linear(512, 10)\n",
    "        )\n",
    "        self.softmax = nn.Softmax(dim=1)\n",
    "    \n",
    "    #this forward is the call() method in Tensorflow. Forward pass thru the module.\n",
    "    def forward(self, X):\n",
    "        h = self.flatten(X)\n",
    "        logits = self.linear_relu_stack(h)\n",
    "        out = self.softmax(logits)\n",
    "        return out\n",
    "    "
   ]
  },
  {
   "cell_type": "markdown",
   "id": "75f6500c",
   "metadata": {},
   "source": [
    "#### In PyTorch, you send every nn.Module and data tensor to the device of your choice explicitly using the .to() method. Loading the model to "
   ]
  },
  {
   "cell_type": "code",
   "execution_count": 62,
   "id": "a494d734",
   "metadata": {
    "scrolled": true
   },
   "outputs": [
    {
     "name": "stdout",
     "output_type": "stream",
     "text": [
      "MyModel(\n",
      "  (flatten): Flatten(start_dim=1, end_dim=-1)\n",
      "  (linear_relu_stack): Sequential(\n",
      "    (0): Linear(in_features=784, out_features=512, bias=True)\n",
      "    (1): ReLU()\n",
      "    (2): Linear(in_features=512, out_features=512, bias=True)\n",
      "    (3): ReLU()\n",
      "    (4): Linear(in_features=512, out_features=10, bias=True)\n",
      "  )\n",
      "  (softmax): Softmax(dim=1)\n",
      ")\n"
     ]
    }
   ],
   "source": [
    "model = MyModel().to(device) \n",
    "print(model)"
   ]
  },
  {
   "cell_type": "markdown",
   "id": "3f97e215",
   "metadata": {},
   "source": [
    "### Predicting with a model. "
   ]
  },
  {
   "cell_type": "code",
   "execution_count": 63,
   "id": "63f0ffc8",
   "metadata": {
    "scrolled": true
   },
   "outputs": [
    {
     "data": {
      "text/plain": [
       "tensor([4, 4, 4, 4, 4, 8, 4, 4, 9, 8, 4, 8, 4, 4, 4, 4], device='cuda:0')"
      ]
     },
     "execution_count": 63,
     "metadata": {},
     "output_type": "execute_result"
    }
   ],
   "source": [
    "#Generate some fake data. Make suro to push that onto the GPU memory, as well.\n",
    "fake_input = torch.rand(size=(16, 1, 28, 28), dtype=torch.float).to(device)\n",
    "preds = model(fake_input).argmax(dim=1)\n",
    "preds\n",
    "#Interestingly, Gaussian noise is interpreted as 2 by the model."
   ]
  },
  {
   "cell_type": "markdown",
   "id": "91936843",
   "metadata": {},
   "source": [
    "### Investigating the model parameter counts."
   ]
  },
  {
   "cell_type": "code",
   "execution_count": 64,
   "id": "be7b6b5d",
   "metadata": {},
   "outputs": [
    {
     "name": "stdout",
     "output_type": "stream",
     "text": [
      "Layer: linear_relu_stack.0.weight | Size: torch.Size([512, 784]) | Values: tensor([[-0.0173,  0.0040,  0.0192,  ..., -0.0224, -0.0004, -0.0068],\n",
      "        [ 0.0215,  0.0209,  0.0355,  ...,  0.0013, -0.0224,  0.0178]],\n",
      "       device='cuda:0', grad_fn=<SliceBackward0>) \n",
      "\n",
      "Layer: linear_relu_stack.0.bias | Size: torch.Size([512]) | Values: tensor([0.0260, 0.0325], device='cuda:0', grad_fn=<SliceBackward0>) \n",
      "\n",
      "Layer: linear_relu_stack.2.weight | Size: torch.Size([512, 512]) | Values: tensor([[ 0.0146, -0.0095, -0.0430,  ..., -0.0422,  0.0161, -0.0090],\n",
      "        [-0.0178, -0.0078,  0.0217,  ..., -0.0169, -0.0076,  0.0046]],\n",
      "       device='cuda:0', grad_fn=<SliceBackward0>) \n",
      "\n",
      "Layer: linear_relu_stack.2.bias | Size: torch.Size([512]) | Values: tensor([0.0402, 0.0210], device='cuda:0', grad_fn=<SliceBackward0>) \n",
      "\n",
      "Layer: linear_relu_stack.4.weight | Size: torch.Size([10, 512]) | Values: tensor([[ 0.0229,  0.0146, -0.0424,  ..., -0.0231, -0.0377,  0.0405],\n",
      "        [-0.0219, -0.0006,  0.0353,  ..., -0.0013, -0.0136, -0.0361]],\n",
      "       device='cuda:0', grad_fn=<SliceBackward0>) \n",
      "\n",
      "Layer: linear_relu_stack.4.bias | Size: torch.Size([10]) | Values: tensor([-0.0224, -0.0282], device='cuda:0', grad_fn=<SliceBackward0>) \n",
      "\n"
     ]
    }
   ],
   "source": [
    "for name, param in model.named_parameters():\n",
    "    print(f\"Layer: {name} | Size: {param.size()} | Values: {param[:2]} \\n\")"
   ]
  }
 ],
 "metadata": {
  "kernelspec": {
   "display_name": "Python [conda env:torch_env] *",
   "language": "python",
   "name": "conda-env-torch_env-py"
  },
  "language_info": {
   "codemirror_mode": {
    "name": "ipython",
    "version": 3
   },
   "file_extension": ".py",
   "mimetype": "text/x-python",
   "name": "python",
   "nbconvert_exporter": "python",
   "pygments_lexer": "ipython3",
   "version": "3.9.7"
  }
 },
 "nbformat": 4,
 "nbformat_minor": 5
}
